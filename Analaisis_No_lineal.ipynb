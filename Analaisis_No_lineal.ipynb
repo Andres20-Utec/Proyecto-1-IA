{
  "nbformat": 4,
  "nbformat_minor": 0,
  "metadata": {
    "colab": {
      "provenance": []
    },
    "kernelspec": {
      "name": "python3",
      "display_name": "Python 3"
    },
    "language_info": {
      "name": "python"
    },
    "accelerator": "GPU",
    "gpuClass": "standard"
  },
  "cells": [
    {
      "cell_type": "markdown",
      "source": [
        "# Import"
      ],
      "metadata": {
        "id": "oNyz9XSyLuxC"
      }
    },
    {
      "cell_type": "code",
      "source": [
        "#from google.colab import drive\n",
        "#drive.mount('/content/drive')"
      ],
      "metadata": {
        "id": "R_XIeHMNA6h_"
      },
      "execution_count": 1,
      "outputs": []
    },
    {
      "cell_type": "code",
      "source": [
        "import numpy as np\n",
        "import matplotlib.pyplot as plt\n",
        "import plotly.express as px\n",
        "import plotly.graph_objects as go\n",
        "import pandas as pd\n",
        "from sklearn.linear_model import Ridge, Lasso, ElasticNet "
      ],
      "metadata": {
        "id": "fsdw6YH6BrGa"
      },
      "execution_count": 32,
      "outputs": []
    },
    {
      "cell_type": "code",
      "source": [
        "def normalizar_data(df):\n",
        "    df = df.select_dtypes(include=\"number\")\n",
        "    return (df - df.min()) / (df.max() - df.min())"
      ],
      "metadata": {
        "id": "Nv9k7V3txg0E"
      },
      "execution_count": 33,
      "outputs": []
    },
    {
      "cell_type": "code",
      "source": [
        "def get_pol(x,p):\n",
        "  ans=x\n",
        "  for i in range(2,p+1):\n",
        "    x_=np.power(x,i)\n",
        "    ans=np.concatenate((ans,x_),axis=1)\n",
        "  return ans"
      ],
      "metadata": {
        "id": "aLZkCptE-_J-"
      },
      "execution_count": 34,
      "outputs": []
    },
    {
      "cell_type": "code",
      "source": [
        "#df = pd.read_csv(\"/content/drive/MyDrive/forestfires.csv\")\n",
        "df = pd.read_csv(\"forestfires.csv\")\n",
        "df.head()"
      ],
      "metadata": {
        "colab": {
          "base_uri": "https://localhost:8080/",
          "height": 206
        },
        "id": "cgdpb4WqD1co",
        "outputId": "a20b5850-f1f5-4bfe-c1cd-005cc980e6dc"
      },
      "execution_count": 35,
      "outputs": [
        {
          "output_type": "execute_result",
          "data": {
            "text/plain": [
              "   X  Y month  day  FFMC   DMC     DC  ISI  temp  RH  wind  rain  area\n",
              "0  7  5   mar  fri  86.2  26.2   94.3  5.1   8.2  51   6.7   0.0   0.0\n",
              "1  7  4   oct  tue  90.6  35.4  669.1  6.7  18.0  33   0.9   0.0   0.0\n",
              "2  7  4   oct  sat  90.6  43.7  686.9  6.7  14.6  33   1.3   0.0   0.0\n",
              "3  8  6   mar  fri  91.7  33.3   77.5  9.0   8.3  97   4.0   0.2   0.0\n",
              "4  8  6   mar  sun  89.3  51.3  102.2  9.6  11.4  99   1.8   0.0   0.0"
            ],
            "text/html": [
              "\n",
              "  <div id=\"df-726aa65a-770f-4150-ae3f-39da64d63f0e\">\n",
              "    <div class=\"colab-df-container\">\n",
              "      <div>\n",
              "<style scoped>\n",
              "    .dataframe tbody tr th:only-of-type {\n",
              "        vertical-align: middle;\n",
              "    }\n",
              "\n",
              "    .dataframe tbody tr th {\n",
              "        vertical-align: top;\n",
              "    }\n",
              "\n",
              "    .dataframe thead th {\n",
              "        text-align: right;\n",
              "    }\n",
              "</style>\n",
              "<table border=\"1\" class=\"dataframe\">\n",
              "  <thead>\n",
              "    <tr style=\"text-align: right;\">\n",
              "      <th></th>\n",
              "      <th>X</th>\n",
              "      <th>Y</th>\n",
              "      <th>month</th>\n",
              "      <th>day</th>\n",
              "      <th>FFMC</th>\n",
              "      <th>DMC</th>\n",
              "      <th>DC</th>\n",
              "      <th>ISI</th>\n",
              "      <th>temp</th>\n",
              "      <th>RH</th>\n",
              "      <th>wind</th>\n",
              "      <th>rain</th>\n",
              "      <th>area</th>\n",
              "    </tr>\n",
              "  </thead>\n",
              "  <tbody>\n",
              "    <tr>\n",
              "      <th>0</th>\n",
              "      <td>7</td>\n",
              "      <td>5</td>\n",
              "      <td>mar</td>\n",
              "      <td>fri</td>\n",
              "      <td>86.2</td>\n",
              "      <td>26.2</td>\n",
              "      <td>94.3</td>\n",
              "      <td>5.1</td>\n",
              "      <td>8.2</td>\n",
              "      <td>51</td>\n",
              "      <td>6.7</td>\n",
              "      <td>0.0</td>\n",
              "      <td>0.0</td>\n",
              "    </tr>\n",
              "    <tr>\n",
              "      <th>1</th>\n",
              "      <td>7</td>\n",
              "      <td>4</td>\n",
              "      <td>oct</td>\n",
              "      <td>tue</td>\n",
              "      <td>90.6</td>\n",
              "      <td>35.4</td>\n",
              "      <td>669.1</td>\n",
              "      <td>6.7</td>\n",
              "      <td>18.0</td>\n",
              "      <td>33</td>\n",
              "      <td>0.9</td>\n",
              "      <td>0.0</td>\n",
              "      <td>0.0</td>\n",
              "    </tr>\n",
              "    <tr>\n",
              "      <th>2</th>\n",
              "      <td>7</td>\n",
              "      <td>4</td>\n",
              "      <td>oct</td>\n",
              "      <td>sat</td>\n",
              "      <td>90.6</td>\n",
              "      <td>43.7</td>\n",
              "      <td>686.9</td>\n",
              "      <td>6.7</td>\n",
              "      <td>14.6</td>\n",
              "      <td>33</td>\n",
              "      <td>1.3</td>\n",
              "      <td>0.0</td>\n",
              "      <td>0.0</td>\n",
              "    </tr>\n",
              "    <tr>\n",
              "      <th>3</th>\n",
              "      <td>8</td>\n",
              "      <td>6</td>\n",
              "      <td>mar</td>\n",
              "      <td>fri</td>\n",
              "      <td>91.7</td>\n",
              "      <td>33.3</td>\n",
              "      <td>77.5</td>\n",
              "      <td>9.0</td>\n",
              "      <td>8.3</td>\n",
              "      <td>97</td>\n",
              "      <td>4.0</td>\n",
              "      <td>0.2</td>\n",
              "      <td>0.0</td>\n",
              "    </tr>\n",
              "    <tr>\n",
              "      <th>4</th>\n",
              "      <td>8</td>\n",
              "      <td>6</td>\n",
              "      <td>mar</td>\n",
              "      <td>sun</td>\n",
              "      <td>89.3</td>\n",
              "      <td>51.3</td>\n",
              "      <td>102.2</td>\n",
              "      <td>9.6</td>\n",
              "      <td>11.4</td>\n",
              "      <td>99</td>\n",
              "      <td>1.8</td>\n",
              "      <td>0.0</td>\n",
              "      <td>0.0</td>\n",
              "    </tr>\n",
              "  </tbody>\n",
              "</table>\n",
              "</div>\n",
              "      <button class=\"colab-df-convert\" onclick=\"convertToInteractive('df-726aa65a-770f-4150-ae3f-39da64d63f0e')\"\n",
              "              title=\"Convert this dataframe to an interactive table.\"\n",
              "              style=\"display:none;\">\n",
              "        \n",
              "  <svg xmlns=\"http://www.w3.org/2000/svg\" height=\"24px\"viewBox=\"0 0 24 24\"\n",
              "       width=\"24px\">\n",
              "    <path d=\"M0 0h24v24H0V0z\" fill=\"none\"/>\n",
              "    <path d=\"M18.56 5.44l.94 2.06.94-2.06 2.06-.94-2.06-.94-.94-2.06-.94 2.06-2.06.94zm-11 1L8.5 8.5l.94-2.06 2.06-.94-2.06-.94L8.5 2.5l-.94 2.06-2.06.94zm10 10l.94 2.06.94-2.06 2.06-.94-2.06-.94-.94-2.06-.94 2.06-2.06.94z\"/><path d=\"M17.41 7.96l-1.37-1.37c-.4-.4-.92-.59-1.43-.59-.52 0-1.04.2-1.43.59L10.3 9.45l-7.72 7.72c-.78.78-.78 2.05 0 2.83L4 21.41c.39.39.9.59 1.41.59.51 0 1.02-.2 1.41-.59l7.78-7.78 2.81-2.81c.8-.78.8-2.07 0-2.86zM5.41 20L4 18.59l7.72-7.72 1.47 1.35L5.41 20z\"/>\n",
              "  </svg>\n",
              "      </button>\n",
              "      \n",
              "  <style>\n",
              "    .colab-df-container {\n",
              "      display:flex;\n",
              "      flex-wrap:wrap;\n",
              "      gap: 12px;\n",
              "    }\n",
              "\n",
              "    .colab-df-convert {\n",
              "      background-color: #E8F0FE;\n",
              "      border: none;\n",
              "      border-radius: 50%;\n",
              "      cursor: pointer;\n",
              "      display: none;\n",
              "      fill: #1967D2;\n",
              "      height: 32px;\n",
              "      padding: 0 0 0 0;\n",
              "      width: 32px;\n",
              "    }\n",
              "\n",
              "    .colab-df-convert:hover {\n",
              "      background-color: #E2EBFA;\n",
              "      box-shadow: 0px 1px 2px rgba(60, 64, 67, 0.3), 0px 1px 3px 1px rgba(60, 64, 67, 0.15);\n",
              "      fill: #174EA6;\n",
              "    }\n",
              "\n",
              "    [theme=dark] .colab-df-convert {\n",
              "      background-color: #3B4455;\n",
              "      fill: #D2E3FC;\n",
              "    }\n",
              "\n",
              "    [theme=dark] .colab-df-convert:hover {\n",
              "      background-color: #434B5C;\n",
              "      box-shadow: 0px 1px 3px 1px rgba(0, 0, 0, 0.15);\n",
              "      filter: drop-shadow(0px 1px 2px rgba(0, 0, 0, 0.3));\n",
              "      fill: #FFFFFF;\n",
              "    }\n",
              "  </style>\n",
              "\n",
              "      <script>\n",
              "        const buttonEl =\n",
              "          document.querySelector('#df-726aa65a-770f-4150-ae3f-39da64d63f0e button.colab-df-convert');\n",
              "        buttonEl.style.display =\n",
              "          google.colab.kernel.accessAllowed ? 'block' : 'none';\n",
              "\n",
              "        async function convertToInteractive(key) {\n",
              "          const element = document.querySelector('#df-726aa65a-770f-4150-ae3f-39da64d63f0e');\n",
              "          const dataTable =\n",
              "            await google.colab.kernel.invokeFunction('convertToInteractive',\n",
              "                                                     [key], {});\n",
              "          if (!dataTable) return;\n",
              "\n",
              "          const docLinkHtml = 'Like what you see? Visit the ' +\n",
              "            '<a target=\"_blank\" href=https://colab.research.google.com/notebooks/data_table.ipynb>data table notebook</a>'\n",
              "            + ' to learn more about interactive tables.';\n",
              "          element.innerHTML = '';\n",
              "          dataTable['output_type'] = 'display_data';\n",
              "          await google.colab.output.renderOutput(dataTable, element);\n",
              "          const docLink = document.createElement('div');\n",
              "          docLink.innerHTML = docLinkHtml;\n",
              "          element.appendChild(docLink);\n",
              "        }\n",
              "      </script>\n",
              "    </div>\n",
              "  </div>\n",
              "  "
            ]
          },
          "metadata": {},
          "execution_count": 35
        }
      ]
    },
    {
      "cell_type": "markdown",
      "source": [
        "# Split"
      ],
      "metadata": {
        "id": "TyOI475tOv4z"
      }
    },
    {
      "cell_type": "code",
      "source": [
        "df = df.select_dtypes(include=\"number\")\n",
        "train_, validate_, test_ = np.split(df.sample(frac=1, random_state=42), [int(.7*len(df)), int(.85*len(df))])"
      ],
      "metadata": {
        "id": "xQ5uH3jAo8RA"
      },
      "execution_count": 36,
      "outputs": []
    },
    {
      "cell_type": "code",
      "source": [
        "df_train=normalizar_data(train_)\n",
        "df_validate=normalizar_data(validate_)\n",
        "df_test=normalizar_data(test_)"
      ],
      "metadata": {
        "id": "HyPxbqh6pAzt"
      },
      "execution_count": 37,
      "outputs": []
    },
    {
      "cell_type": "markdown",
      "source": [
        "## Polinomio de grado 2"
      ],
      "metadata": {
        "id": "2MbKkxtppUrg"
      }
    },
    {
      "cell_type": "code",
      "source": [
        "df_train.insert(0, 'Bias', np.ones(df_train.shape[0]))\n",
        "df_validate.insert(0, 'Bias', np.ones(df_validate.shape[0]))\n",
        "df_test.insert(0, 'Bias', np.ones(df_test.shape[0]))\n",
        "\n",
        "X_TRAIN=df_train[df_train.columns[:-1]].to_numpy()\n",
        "X_TRAIN=get_pol(X_TRAIN,2)\n",
        "Y_TRAIN=df_train[df_train.columns[-1]].to_numpy()\n",
        "Y_TRAIN=Y_TRAIN.reshape(len(Y_TRAIN),1)\n",
        "\n",
        "X_VALIDATE=df_validate[df_validate.columns[:-1]].to_numpy()\n",
        "X_VALIDATE=get_pol(X_VALIDATE,2)\n",
        "Y_VALIDATE=df_validate[df_validate.columns[-1]].to_numpy()\n",
        "Y_VALIDATE=Y_VALIDATE.reshape(len(Y_VALIDATE),1)\n",
        "\n",
        "X_TEST=df_test[df_test.columns[:-1]].to_numpy()\n",
        "X_TEST=get_pol(X_TEST,2)\n",
        "Y_TEST=df_test[df_test.columns[-1]].to_numpy()\n",
        "Y_TEST=Y_TEST.reshape(len(Y_TEST),1)"
      ],
      "metadata": {
        "id": "SVeJrmeBMMz3"
      },
      "execution_count": 38,
      "outputs": []
    },
    {
      "cell_type": "markdown",
      "source": [
        "# Model"
      ],
      "metadata": {
        "id": "vdASdKjHpboB"
      }
    },
    {
      "cell_type": "code",
      "source": [
        "def h(x, w):\n",
        "    return np.dot(x,w)"
      ],
      "metadata": {
        "id": "C7DWbpTNMU4n"
      },
      "execution_count": 39,
      "outputs": []
    },
    {
      "cell_type": "code",
      "source": [
        "def Error(x,w,y,lamda,typo):\n",
        "  if typo==\"MSE\":\n",
        "    return np.sum((y-h(x,w))**2)/(2.0*len(x)) + lamda*np.sum(w**2)\n",
        "  if typo==\"MAE\":\n",
        "    return np.sum(abs(y-h(x,w)))/(1.0*len(x)) + lamda * abs(np.sum(w))"
      ],
      "metadata": {
        "id": "p9i2DuQrKO9i"
      },
      "execution_count": 40,
      "outputs": []
    },
    {
      "cell_type": "code",
      "source": [
        "def derivada(x,w,y,lamda,typo):\n",
        "    n=len(x)\n",
        "    if typo==\"MSE\":\n",
        "      return (1/n)*(np.dot((y - h(x,w)).T,-1*x).T) + 2*lamda*w\n",
        "    if typo==\"MAE\":\n",
        "      return (1.0/(1.0*len(x)))*np.dot(((y-h(x,w))/abs(y-h(x,w))).T,-1*x).T + (lamda * w) / np.abs(w)"
      ],
      "metadata": {
        "id": "q5fgI5JWKS5z"
      },
      "execution_count": 41,
      "outputs": []
    },
    {
      "cell_type": "code",
      "source": [
        "def update(w,  dw, alpha):\n",
        "    w = w - alpha*dw \n",
        "    return w"
      ],
      "metadata": {
        "id": "5u7dfWT8QM3t"
      },
      "execution_count": 42,
      "outputs": []
    },
    {
      "cell_type": "code",
      "source": [
        "def train1(x,y,alfa,lamda,epochs,typo):\n",
        "    #print(X.shape)\n",
        "    w = np.array([np.random.rand() for i in range(x.shape[1])])\n",
        "    w= w.reshape(len(w),1)\n",
        "    l = Error(x,w,y,lamda,typo)\n",
        "    print(l)\n",
        "    loss = []\n",
        "    for i in range(epochs):\n",
        "        dw = derivada(x, w, y,lamda,typo)\n",
        "        w = update(w,dw,alfa)\n",
        "        l = Error(x, w,y,lamda,typo)\n",
        "        loss.append(l)\n",
        "    return w, loss\n",
        "\n",
        "\n",
        "def Plot_Loss(epochs,loss):\n",
        "   plt.plot(epochs, loss)"
      ],
      "metadata": {
        "id": "yF26dSNtKWcy"
      },
      "execution_count": 43,
      "outputs": []
    },
    {
      "cell_type": "code",
      "source": [
        "def get_data(train, batch=4):\n",
        "    indices = np.random.choice(train.shape[0], batch, replace=False)\n",
        "    X_train = np.array(train.iloc[indices, :-1])\n",
        "    y_train = np.array(train.iloc[indices, -1])\n",
        "    return X_train, y_train"
      ],
      "metadata": {
        "id": "Z-UsVzGrRrGG"
      },
      "execution_count": 44,
      "outputs": []
    },
    {
      "cell_type": "code",
      "source": [
        "def train_complete(x, y, alfa, lamda, epochs, typo):\n",
        "    w = np.array([np.random.rand() for i in range(x.shape[1])])\n",
        "    w= w.reshape(len(w),1)\n",
        "    loss_training = []\n",
        "    loss_validation = []\n",
        "    for i in range(epochs):\n",
        "      dw=derivada(x,w,y,lamda,typo)\n",
        "      w = update(w,dw,alfa)\n",
        "      lt=Error(x,w,y,lamda,typo)\n",
        "      lv=Error(X_VALIDATE,w,Y_VALIDATE,lamda,typo)\n",
        "      loss_training.append(lt)\n",
        "      loss_validation.append(lv)\n",
        "    return w,loss_training,loss_validation\n",
        "\n",
        "def Plot_Loss_both(epochs,loss_training,loss_validation):\n",
        "    plt.plot(epochs, loss_validation)\n",
        "    plt.plot(epochs, loss_training)\n",
        "    plt.show()"
      ],
      "metadata": {
        "id": "IIO_VN-bKbjE"
      },
      "execution_count": 45,
      "outputs": []
    },
    {
      "cell_type": "code",
      "source": [
        "epochs=200\n",
        "typo=\"MSE\"\n",
        "w,loss_trai=train1(X_TRAIN,Y_TRAIN,0.01,0,epochs,typo)\n",
        "Plot_Loss([i for i in range(epochs)], loss_trai)"
      ],
      "metadata": {
        "id": "wqcheFjxr0Lm",
        "colab": {
          "base_uri": "https://localhost:8080/",
          "height": 282
        },
        "outputId": "c3d79521-3fc5-496b-c5bf-fc6e4d4653a2"
      },
      "execution_count": 46,
      "outputs": [
        {
          "output_type": "stream",
          "name": "stdout",
          "text": [
            "13.299206754754856\n"
          ]
        },
        {
          "output_type": "display_data",
          "data": {
            "text/plain": [
              "<Figure size 432x288 with 1 Axes>"
            ],
            "image/png": "[encoded data removed]"
          },
          "metadata": {
            "needs_background": "light"
          }
        }
      ]
    },
    {
      "cell_type": "code",
      "source": [
        "epochs=300\n",
        "typo=\"MSE\"\n",
        "w,loss_training,loss_validation = train_complete(X_TRAIN, Y_TRAIN, 0.001,50,epochs,typo)\n",
        "Plot_Loss_both([i for i in range(epochs)],loss_training,loss_validation)"
      ],
      "metadata": {
        "colab": {
          "base_uri": "https://localhost:8080/",
          "height": 265
        },
        "id": "OMrmJFlkBxqM",
        "outputId": "e7f415e0-d963-4066-fb6e-ff42e96feb3c"
      },
      "execution_count": 47,
      "outputs": [
        {
          "output_type": "display_data",
          "data": {
            "text/plain": [
              "<Figure size 432x288 with 1 Axes>"
            ],
            "image/png": "[encoded data removed]"
          },
          "metadata": {
            "needs_background": "light"
          }
        }
      ]
    },
    {
      "cell_type": "code",
      "source": [
        "def r_coef(w, X_TEST, Y_TEST):\n",
        "   r2= 1 - np.sum((Y_TEST - np.dot(w.T,X_TEST.T))**2) / np.sum((Y_TEST - Y_TEST.mean())**2)\n",
        "   return r2"
      ],
      "metadata": {
        "id": "sGvWh8oNAQS8"
      },
      "execution_count": 48,
      "outputs": []
    },
    {
      "cell_type": "code",
      "source": [
        "\n",
        "learning_rate=[0.01,0.001, 0.0001, 0.00001]\n",
        "epochs_array=[100, 200, 400, 800, 1500]\n",
        "error_type=[\"MAE\",\"MSE\"]\n",
        "dicc_ = {\n",
        "    \"MAE\" : [],\n",
        "    \"MSE\" : []\n",
        "}\n",
        "\n",
        "dicc = {\n",
        "    0.01 : [],\n",
        "    0.001 : [],\n",
        "    0.0001 : [],\n",
        "    0.00001 : []\n",
        "}\n",
        "\n",
        "dicc_loss = {\n",
        "    0.01 : None,\n",
        "    0.001 : None,\n",
        "    0.0001 : None,\n",
        "    0.00001 : None\n",
        "}\n",
        "\n",
        "dicc_validation = {\n",
        "    0.01 : None,\n",
        "    0.001 : None,\n",
        "    0.0001 : None,\n",
        "    0.00001 : None\n",
        "}\n",
        "\n",
        "typo = \"MSE\"\n",
        "\n",
        "for i in learning_rate:\n",
        "  for j in epochs_array:\n",
        "    #for k in error_type:\n",
        "      w, loss_training, loss_validation = train_complete(X_TRAIN, Y_TRAIN, i, 1,j,typo)\n",
        "      dicc_loss[i] = loss_training\n",
        "      dicc_validation[i] = loss_validation\n",
        "      r2 = round(r_coef(w, X_TRAIN, Y_TRAIN), 3)\n",
        "      dicc[i].append(r2)\n"
      ],
      "metadata": {
        "id": "kzUxkrK9E37d"
      },
      "execution_count": 49,
      "outputs": []
    },
    {
      "cell_type": "markdown",
      "source": [
        "$R^2$\n"
      ],
      "metadata": {
        "id": "TMdSGldWpoOc"
      }
    },
    {
      "cell_type": "code",
      "source": [
        "pd.DataFrame(dicc, index = [\"100\", \"200\", \"400\", \"800\", \"1500\"])"
      ],
      "metadata": {
        "id": "JKY7CIlGAqhu",
        "outputId": "2f4110d4-d094-40bc-d5f0-f071cfbf752d",
        "colab": {
          "base_uri": "https://localhost:8080/",
          "height": 206
        }
      },
      "execution_count": 50,
      "outputs": [
        {
          "output_type": "execute_result",
          "data": {
            "text/plain": [
              "      0.01000     0.00100      0.00010      0.00001\n",
              "100  -597.212 -376473.513 -1038495.011 -2591760.591\n",
              "200  -367.027 -103568.112 -1324787.815 -1946391.268\n",
              "400  -361.103   -9505.074 -1510628.438 -2152411.178\n",
              "800  -361.097   -1138.052  -727824.941 -2170245.273\n",
              "1500 -361.097    -387.548  -283782.458 -1156145.910"
            ],
            "text/html": [
              "\n",
              "  <div id=\"df-8a3eba8d-d703-4b19-9f88-86d230fa8412\">\n",
              "    <div class=\"colab-df-container\">\n",
              "      <div>\n",
              "<style scoped>\n",
              "    .dataframe tbody tr th:only-of-type {\n",
              "        vertical-align: middle;\n",
              "    }\n",
              "\n",
              "    .dataframe tbody tr th {\n",
              "        vertical-align: top;\n",
              "    }\n",
              "\n",
              "    .dataframe thead th {\n",
              "        text-align: right;\n",
              "    }\n",
              "</style>\n",
              "<table border=\"1\" class=\"dataframe\">\n",
              "  <thead>\n",
              "    <tr style=\"text-align: right;\">\n",
              "      <th></th>\n",
              "      <th>0.01000</th>\n",
              "      <th>0.00100</th>\n",
              "      <th>0.00010</th>\n",
              "      <th>0.00001</th>\n",
              "    </tr>\n",
              "  </thead>\n",
              "  <tbody>\n",
              "    <tr>\n",
              "      <th>100</th>\n",
              "      <td>-597.212</td>\n",
              "      <td>-376473.513</td>\n",
              "      <td>-1038495.011</td>\n",
              "      <td>-2591760.591</td>\n",
              "    </tr>\n",
              "    <tr>\n",
              "      <th>200</th>\n",
              "      <td>-367.027</td>\n",
              "      <td>-103568.112</td>\n",
              "      <td>-1324787.815</td>\n",
              "      <td>-1946391.268</td>\n",
              "    </tr>\n",
              "    <tr>\n",
              "      <th>400</th>\n",
              "      <td>-361.103</td>\n",
              "      <td>-9505.074</td>\n",
              "      <td>-1510628.438</td>\n",
              "      <td>-2152411.178</td>\n",
              "    </tr>\n",
              "    <tr>\n",
              "      <th>800</th>\n",
              "      <td>-361.097</td>\n",
              "      <td>-1138.052</td>\n",
              "      <td>-727824.941</td>\n",
              "      <td>-2170245.273</td>\n",
              "    </tr>\n",
              "    <tr>\n",
              "      <th>1500</th>\n",
              "      <td>-361.097</td>\n",
              "      <td>-387.548</td>\n",
              "      <td>-283782.458</td>\n",
              "      <td>-1156145.910</td>\n",
              "    </tr>\n",
              "  </tbody>\n",
              "</table>\n",
              "</div>\n",
              "      <button class=\"colab-df-convert\" onclick=\"convertToInteractive('df-8a3eba8d-d703-4b19-9f88-86d230fa8412')\"\n",
              "              title=\"Convert this dataframe to an interactive table.\"\n",
              "              style=\"display:none;\">\n",
              "        \n",
              "  <svg xmlns=\"http://www.w3.org/2000/svg\" height=\"24px\"viewBox=\"0 0 24 24\"\n",
              "       width=\"24px\">\n",
              "    <path d=\"M0 0h24v24H0V0z\" fill=\"none\"/>\n",
              "    <path d=\"M18.56 5.44l.94 2.06.94-2.06 2.06-.94-2.06-.94-.94-2.06-.94 2.06-2.06.94zm-11 1L8.5 8.5l.94-2.06 2.06-.94-2.06-.94L8.5 2.5l-.94 2.06-2.06.94zm10 10l.94 2.06.94-2.06 2.06-.94-2.06-.94-.94-2.06-.94 2.06-2.06.94z\"/><path d=\"M17.41 7.96l-1.37-1.37c-.4-.4-.92-.59-1.43-.59-.52 0-1.04.2-1.43.59L10.3 9.45l-7.72 7.72c-.78.78-.78 2.05 0 2.83L4 21.41c.39.39.9.59 1.41.59.51 0 1.02-.2 1.41-.59l7.78-7.78 2.81-2.81c.8-.78.8-2.07 0-2.86zM5.41 20L4 18.59l7.72-7.72 1.47 1.35L5.41 20z\"/>\n",
              "  </svg>\n",
              "      </button>\n",
              "      \n",
              "  <style>\n",
              "    .colab-df-container {\n",
              "      display:flex;\n",
              "      flex-wrap:wrap;\n",
              "      gap: 12px;\n",
              "    }\n",
              "\n",
              "    .colab-df-convert {\n",
              "      background-color: #E8F0FE;\n",
              "      border: none;\n",
              "      border-radius: 50%;\n",
              "      cursor: pointer;\n",
              "      display: none;\n",
              "      fill: #1967D2;\n",
              "      height: 32px;\n",
              "      padding: 0 0 0 0;\n",
              "      width: 32px;\n",
              "    }\n",
              "\n",
              "    .colab-df-convert:hover {\n",
              "      background-color: #E2EBFA;\n",
              "      box-shadow: 0px 1px 2px rgba(60, 64, 67, 0.3), 0px 1px 3px 1px rgba(60, 64, 67, 0.15);\n",
              "      fill: #174EA6;\n",
              "    }\n",
              "\n",
              "    [theme=dark] .colab-df-convert {\n",
              "      background-color: #3B4455;\n",
              "      fill: #D2E3FC;\n",
              "    }\n",
              "\n",
              "    [theme=dark] .colab-df-convert:hover {\n",
              "      background-color: #434B5C;\n",
              "      box-shadow: 0px 1px 3px 1px rgba(0, 0, 0, 0.15);\n",
              "      filter: drop-shadow(0px 1px 2px rgba(0, 0, 0, 0.3));\n",
              "      fill: #FFFFFF;\n",
              "    }\n",
              "  </style>\n",
              "\n",
              "      <script>\n",
              "        const buttonEl =\n",
              "          document.querySelector('#df-8a3eba8d-d703-4b19-9f88-86d230fa8412 button.colab-df-convert');\n",
              "        buttonEl.style.display =\n",
              "          google.colab.kernel.accessAllowed ? 'block' : 'none';\n",
              "\n",
              "        async function convertToInteractive(key) {\n",
              "          const element = document.querySelector('#df-8a3eba8d-d703-4b19-9f88-86d230fa8412');\n",
              "          const dataTable =\n",
              "            await google.colab.kernel.invokeFunction('convertToInteractive',\n",
              "                                                     [key], {});\n",
              "          if (!dataTable) return;\n",
              "\n",
              "          const docLinkHtml = 'Like what you see? Visit the ' +\n",
              "            '<a target=\"_blank\" href=https://colab.research.google.com/notebooks/data_table.ipynb>data table notebook</a>'\n",
              "            + ' to learn more about interactive tables.';\n",
              "          element.innerHTML = '';\n",
              "          dataTable['output_type'] = 'display_data';\n",
              "          await google.colab.output.renderOutput(dataTable, element);\n",
              "          const docLink = document.createElement('div');\n",
              "          docLink.innerHTML = docLinkHtml;\n",
              "          element.appendChild(docLink);\n",
              "        }\n",
              "      </script>\n",
              "    </div>\n",
              "  </div>\n",
              "  "
            ]
          },
          "metadata": {},
          "execution_count": 50
        }
      ]
    },
    {
      "cell_type": "code",
      "source": [
        "legends = [\"0.01\", \"0.001\", \"0.0001\", \"0.00001\"]\n",
        "j = 0\n",
        "for learning_rate, history in dicc_loss.items():\n",
        "    plt.plot([i for i in range(len(history))], history, label = legends[j])\n",
        "    j+=1\n",
        "plt.title(\"Cost Function of Training data\")\n",
        "plt.xlabel(\"Epochs\")\n",
        "plt.legend()\n",
        "plt.show()"
      ],
      "metadata": {
        "id": "QEdfWXrG3TJV",
        "outputId": "446c712b-ab9c-414d-9861-cb0e07efed34",
        "colab": {
          "base_uri": "https://localhost:8080/",
          "height": 295
        }
      },
      "execution_count": 51,
      "outputs": [
        {
          "output_type": "display_data",
          "data": {
            "text/plain": [
              "<Figure size 432x288 with 1 Axes>"
            ],
            "image/png": "[encoded data removed]"
          },
          "metadata": {
            "needs_background": "light"
          }
        }
      ]
    },
    {
      "cell_type": "code",
      "source": [
        "legends = [\"0.01\", \"0.001\", \"0.0001\", \"0.00001\"]\n",
        "j = 0\n",
        "for learning_rate, history in dicc_validation.items():\n",
        "    plt.plot([i for i in range(len(history))], history, label = legends[j])\n",
        "    j+=1\n",
        "plt.title(\"Cost Function of Validation data\")\n",
        "plt.xlabel(\"Epochs\")\n",
        "plt.legend()\n",
        "plt.show()"
      ],
      "metadata": {
        "id": "jEeKIVij3VZV",
        "outputId": "50a11e8b-fce3-4b48-c63c-f3ab7dbc277e",
        "colab": {
          "base_uri": "https://localhost:8080/",
          "height": 295
        }
      },
      "execution_count": 52,
      "outputs": [
        {
          "output_type": "display_data",
          "data": {
            "text/plain": [
              "<Figure size 432x288 with 1 Axes>"
            ],
            "image/png": "[encoded data removed]"
          },
          "metadata": {
            "needs_background": "light"
          }
        }
      ]
    },
    {
      "cell_type": "markdown",
      "source": [
        "# Ridge"
      ],
      "metadata": {
        "id": "Gb3088tflOG0"
      }
    },
    {
      "cell_type": "code",
      "source": [
        "ridge_ = Ridge(alpha = 1.0)\n",
        "ridge_.fit(X_TRAIN, Y_TRAIN)\n",
        "print(f\"Score: {ridge_.score(X_TEST, Y_TEST)}\")"
      ],
      "metadata": {
        "id": "wQ9yy2FkCHQF",
        "colab": {
          "base_uri": "https://localhost:8080/"
        },
        "outputId": "5d2cba53-3496-4441-ff96-8e3933dc031f"
      },
      "execution_count": 53,
      "outputs": [
        {
          "output_type": "stream",
          "name": "stdout",
          "text": [
            "Score: -0.09311150841341154\n"
          ]
        }
      ]
    },
    {
      "cell_type": "markdown",
      "source": [
        "# Lasso"
      ],
      "metadata": {
        "id": "iucF_Cc0nRY8"
      }
    },
    {
      "cell_type": "code",
      "source": [
        "lasso_model = Lasso(alpha = 1)\n",
        "lasso_model.fit(X_TRAIN, Y_TRAIN)\n",
        "print(f\"Score: {lasso_model.score(X_TEST, Y_TEST)}\") "
      ],
      "metadata": {
        "colab": {
          "base_uri": "https://localhost:8080/"
        },
        "id": "TmLLkVAqnQbe",
        "outputId": "abf8ebc0-d290-4d41-b815-ed985f5da145"
      },
      "execution_count": 54,
      "outputs": [
        {
          "output_type": "stream",
          "name": "stdout",
          "text": [
            "Score: -0.04223834553433781\n"
          ]
        }
      ]
    },
    {
      "cell_type": "markdown",
      "source": [
        "# ElasticNet"
      ],
      "metadata": {
        "id": "ISEInFcxnR-1"
      }
    },
    {
      "cell_type": "code",
      "source": [
        "regr = ElasticNet(random_state = 0, alpha = 1)\n",
        "regr.fit(X_TRAIN, Y_TRAIN)\n",
        "print(f\"Score R^2: {regr.score(X_TEST, Y_TEST)}\")"
      ],
      "metadata": {
        "colab": {
          "base_uri": "https://localhost:8080/"
        },
        "id": "lIelAKbOm2OP",
        "outputId": "2935ef0d-6267-4633-9650-a5be3c676238"
      },
      "execution_count": 55,
      "outputs": [
        {
          "output_type": "stream",
          "name": "stdout",
          "text": [
            "Score R^2: -0.04223834553433781\n"
          ]
        }
      ]
    }
  ]
}